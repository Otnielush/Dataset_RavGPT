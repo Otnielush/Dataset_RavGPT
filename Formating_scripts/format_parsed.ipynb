{
 "cells": [
  {
   "cell_type": "code",
   "execution_count": 1,
   "id": "e5dbf322",
   "metadata": {},
   "outputs": [],
   "source": [
    "import json\n",
    "import os\n",
    "import shutil"
   ]
  },
  {
   "cell_type": "code",
   "execution_count": 2,
   "id": "c344a4ad",
   "metadata": {},
   "outputs": [],
   "source": [
    "path = r\"C:\\Dev\\My_reps\\RavGPT\\chabadorg-scraper\\files\\New folder\\Chassidic Texts.json\""
   ]
  },
  {
   "cell_type": "code",
   "execution_count": 3,
   "id": "a106bd0b",
   "metadata": {},
   "outputs": [],
   "source": [
    "def read_json(path):\n",
    "    with open(path, 'r', encoding=\"utf-8\") as f:\n",
    "        jsn = json.load(f)\n",
    "    return jsn"
   ]
  },
  {
   "cell_type": "code",
   "execution_count": 4,
   "id": "42e18d5b",
   "metadata": {},
   "outputs": [],
   "source": [
    "def read_book(path, content):\n",
    "\n",
    "    \n",
    "    if isinstance(content, dict):\n",
    "        key = path + \"|\" + content['title'] if path else content['title']\n",
    "        return read_book(key, content['content'])\n",
    "    \n",
    "    if isinstance(content, list):\n",
    "        if len(content) == 0:\n",
    "            return {}\n",
    "        else:\n",
    "            if isinstance(content[0], str):\n",
    "                data = \"\\n\".join([c for c in content])\n",
    "                return {path: data}\n",
    "            \n",
    "            else:\n",
    "                data = {}\n",
    "                for cont in content:\n",
    "                    data.update(read_book(path, cont))\n",
    "                return data"
   ]
  },
  {
   "cell_type": "code",
   "execution_count": 5,
   "id": "8825900e",
   "metadata": {},
   "outputs": [],
   "source": [
    "ct = read_json(path)"
   ]
  },
  {
   "cell_type": "code",
   "execution_count": 6,
   "id": "1aefa827",
   "metadata": {},
   "outputs": [
    {
     "data": {
      "text/plain": [
       "dict_keys(['bookTitle', 'bookAuthor', 'bookDescription', 'content'])"
      ]
     },
     "execution_count": 6,
     "metadata": {},
     "output_type": "execute_result"
    }
   ],
   "source": [
    "ct.keys()"
   ]
  },
  {
   "cell_type": "code",
   "execution_count": 8,
   "id": "4473e34a",
   "metadata": {},
   "outputs": [],
   "source": [
    "tt = read_book(\"\", ct['content'][0]['content'])"
   ]
  },
  {
   "cell_type": "code",
   "execution_count": 13,
   "id": "f9b65807",
   "metadata": {},
   "outputs": [
    {
     "data": {
      "text/plain": [
       "'by the famous rabbi and , G‑dly man, of saintly renown, our teacher Rabbi  Meshulam Zusil  of Anipoli:\\nI have seen the writings of this rabbi and , G‑dly man, saintly and pure, lucid speculum; and well he did;  in His wonderful kindness having put into his pure heart to accomplish all this in order to show the G‑dly people His holy ways.\\nIt was [the author\\'s] intention not to publish these writings in print, since it is not his custom. However, because these  kuntresim  have spread in the midst of all  in numerous copies by sundry copyists, and, as a result of the many transcriptions, the copyists\\' errors have multiplied exceedingly, he was impelled to bring these  kuntresim  to the printing press.\\nAnd G‑d has aroused the spirit of the [two] partners, the outstanding and distinguished scholar R. Sholom Shachne, the son of R. , and the outstanding and distinguished scholar R. , the son of R.  haLevi, to bring these  kuntresim  to the printing house in Slavita. So I said of this good deed, More power to you. However, they were apprehensive of the growing number of printing establishments which are wont to cause damage and ruin to the accredited ones. In view of this, we have resolved to give this approbation so that no man should dare lift his hand and foot to cause any damage, Heaven forfend, to the said printers by encroaching upon their exclusive right in any manner. It is to restrain any person from reprinting this book without the knowledge of the said printers for a period of five full years from the date below. He who will heed these my words will be blessed with good. These are the words of one who demands this for the glory of the , this day, the third, twice blessed with \"it is good,\" of the weekly portion  Tavo,  in the year פדותינו (556). The insignificant MESHULAM ZUSIL of Anipoli\\nby the famous rabbi and chasid, G‑dly man, of saintly renown, our teacher Rabbi   Leib haCohen:\\nThe wisdom of the man illumines the face of the earth— on seeing the work of the saintly hands of the author, rabbi and gaon, G‑dly man, saintly and pure, pious and humble, whose hidden [powers] had been revealed long ago, when he dwelt in the council of the wise with  our lord, master and teacher,  the  world gaon,  and drew water from the  well of living waters.  Now,  Israel  shall rejoice as his saintly words are revealed in this compiled work which is about to go to press, to teach the people of G‑d the ways of holiness, as anyone can see in the inwardness of [the author\\'s] words.\\nThat which is common knowledge requires no proof. Only because of the apprehension of a wrong, lest a loss be caused to the printers, I come to confer sanction and prohibition, that no man lift up his hand or foot to reprint this work for a period of five years from below date. Whoever will heed these my words will be blessed with good.\\nThese are the words of one who speaks for the glory of the Torah, this third day of the weekly portion  Tavo,  556.\\nYEHUDA LEIB HACOHEN\\nby the rabbis (long may they live), the sons of the gaon the author (of blessed memory, whose soul is in Eden).\\nWhereas it has been agreed by us to give authorisation and prerogative to bring to the printing press, for a remembrance unto the children of Israel, the written words of uprightness and truth, the words of the Living G‑d, authored by our lord father, teacher and master, of blessed memory, recorded personally in his saintly expression, whose words are all burning coals to set the hearts aflame to bring them closer to their Father in heaven; they are entitled  Igeret hakodesh  (\"Holy Epistle\"), being mostly epistles sent by his holy eminence, to teach the people of G‑d the way by which to walk and the deed which they should do;\\nAnd inasmuch as he has made references, in many places, to the  Sefer Likutei Amarim,  since the words of the Torah are scanty in one place and ample in another, especially also as he introduced new material in the  Kuntres   on certain chapters which he wrote when he composed the  Sefer Likutei Amarim,  profound discussions on passages in the  , Etz Chayim  and  Peri Etz Chayim,  which [passages] appear contradictory to one another, but he, with his inspired perception, has reconciled them, each statement in its own manner, as he has written in the  Likutei Amarim,  we have seen fit and proper to join them with the  Sefer Likutei Amarim  and  Igeret hateshuvah  of his saintly eminence, our lord father, teacher and master, of blessed memory;\\n[Therefore], we come to place a great fence and the rabbinic injunction of נח\"ש (excommunication) for which there is no remedy, that no man lift his hand to reprint them in their present form, or in part, a period of five years from the date below.\\nHowever, this should be made known: To our misfortune the manuscripts written by his personal saintly hand which were composed with great punctiliousness, without a superfluous or deficient letter, have become extinct; only this little has remained from the abundance, and it has been carefully collected one by one from the  copies  spread among the disciples. Should, therefore, an error be discovered (who can understand [and prevent] errors?) the evident error will be identified as a scribe\\'s error, but the meaning will be clear.\\nDeclared by  DOV BER, the son of my lord father, teacher and master, gaon and chasid, saint of Israel, our teacher and master SCHNEUR ZALMAN, of blessed memory, נבג\"מ\\nAlso declared by  CHAYIM , the son of my lord father, teacher and master, gaon and chasid our teacher and master SCHNEUR ZALMAN, the memory of the  be blessed, נבג\"מ .\\nAlso declared by  , the son of my lord father, teacher and master, gaon and chasid, SCHNEUR ZALMAN, of blessed memory, נבג\"מ.'"
      ]
     },
     "execution_count": 13,
     "metadata": {},
     "output_type": "execute_result"
    }
   ],
   "source": [
    "tt['Tanya|Likutei Amarim|Approbations']"
   ]
  },
  {
   "cell_type": "code",
   "execution_count": null,
   "id": "e545f156",
   "metadata": {},
   "outputs": [],
   "source": []
  },
  {
   "cell_type": "code",
   "execution_count": null,
   "id": "77a28ac6",
   "metadata": {},
   "outputs": [],
   "source": []
  },
  {
   "cell_type": "code",
   "execution_count": 12,
   "id": "ba940116",
   "metadata": {},
   "outputs": [
    {
     "data": {
      "text/plain": [
       "dict_keys(['Tanya|Likutei Amarim|Title Page', 'Tanya|Likutei Amarim|Approbations', \"Tanya|Likutei Amarim|Compiler's Foreword\", 'Tanya|Likutei Amarim|Chapter 1', 'Tanya|Likutei Amarim|Chapter 2', 'Tanya|Likutei Amarim|Chapter 3', 'Tanya|Likutei Amarim|Chapter 4', 'Tanya|Likutei Amarim|Chapter 5', 'Tanya|Likutei Amarim|Chapter 6', 'Tanya|Likutei Amarim|Chapter 7', 'Tanya|Likutei Amarim|Chapter 8', 'Tanya|Likutei Amarim|Chapter 9', 'Tanya|Likutei Amarim|Chapter 10', 'Tanya|Likutei Amarim|Chapter 11', 'Tanya|Likutei Amarim|Chapter 12', 'Tanya|Likutei Amarim|Chapter 13', 'Tanya|Likutei Amarim|Chapter 14', 'Tanya|Likutei Amarim|Chapter 15', 'Tanya|Likutei Amarim|Chapter 16', 'Tanya|Likutei Amarim|Chapter 17', 'Tanya|Likutei Amarim|Chapter 18', 'Tanya|Likutei Amarim|Chapter 19', 'Tanya|Likutei Amarim|Chapter 20', 'Tanya|Likutei Amarim|Chapter 21', 'Tanya|Likutei Amarim|Chapter 22', 'Tanya|Likutei Amarim|Chapter 23', 'Tanya|Likutei Amarim|Chapter 24', 'Tanya|Likutei Amarim|Chapter 25', 'Tanya|Likutei Amarim|Chapter 26', 'Tanya|Likutei Amarim|Chapter 27', 'Tanya|Likutei Amarim|Chapter 28', 'Tanya|Likutei Amarim|Chapter 29', 'Tanya|Likutei Amarim|Chapter 30', 'Tanya|Likutei Amarim|Chapter 31', 'Tanya|Likutei Amarim|Chapter 32', 'Tanya|Likutei Amarim|Chapter 33', 'Tanya|Likutei Amarim|Chapter 34', 'Tanya|Likutei Amarim|Chapter 35', 'Tanya|Likutei Amarim|Chapter 36', 'Tanya|Likutei Amarim|Chapter 37', 'Tanya|Likutei Amarim|Chapter 38', 'Tanya|Likutei Amarim|Chapter 39', 'Tanya|Likutei Amarim|Chapter 40', 'Tanya|Likutei Amarim|Chapter 41', 'Tanya|Likutei Amarim|Chapter 42', 'Tanya|Likutei Amarim|Chapter 43', 'Tanya|Likutei Amarim|Chapter 44', 'Tanya|Likutei Amarim|Chapter 45', 'Tanya|Likutei Amarim|Chapter 46', 'Tanya|Likutei Amarim|Chapter 47', 'Tanya|Likutei Amarim|Chapter 48', 'Tanya|Likutei Amarim|Chapter 49', 'Tanya|Likutei Amarim|Chapter 50', 'Tanya|Likutei Amarim|Chapter 51', 'Tanya|Likutei Amarim|Chapter 52', 'Tanya|Likutei Amarim|Chapter 53', 'Tanya|Shaar Hayichud Vehaemuna|Introduction', 'Tanya|Shaar Hayichud Vehaemuna|Chapter 1', 'Tanya|Shaar Hayichud Vehaemuna|Chapter 2', 'Tanya|Shaar Hayichud Vehaemuna|Chapter 3', 'Tanya|Shaar Hayichud Vehaemuna|Chapter 4', 'Tanya|Shaar Hayichud Vehaemuna|Chapter 5', 'Tanya|Shaar Hayichud Vehaemuna|Chapter 6', 'Tanya|Shaar Hayichud Vehaemuna|Chapter 7', 'Tanya|Shaar Hayichud Vehaemuna|Chapter 8', 'Tanya|Shaar Hayichud Vehaemuna|Chapter 9', 'Tanya|Shaar Hayichud Vehaemuna|Chapter 10', 'Tanya|Shaar Hayichud Vehaemuna|Chapter 11', 'Tanya|Shaar Hayichud Vehaemuna|Chapter 12', 'Tanya|Igeret Hateshuva|Chapter 1', 'Tanya|Igeret Hateshuva|Chapter 2', 'Tanya|Igeret Hateshuva|Chapter 3', 'Tanya|Igeret Hateshuva|Chapter 4', 'Tanya|Igeret Hateshuva|Chapter 5', 'Tanya|Igeret Hateshuva|Chapter 6', 'Tanya|Igeret Hateshuva|Chapter 7', 'Tanya|Igeret Hateshuva|Chapter 8', 'Tanya|Igeret Hateshuva|Chapter 9', 'Tanya|Igeret Hateshuva|Chapter 10', 'Tanya|Igeret Hateshuva|Chapter 11', 'Tanya|Igeret Hateshuva|Chapter 12', 'Tanya|Igeret Hakodesh|Epistle 1', 'Tanya|Igeret Hakodesh|Epistle 2', 'Tanya|Igeret Hakodesh|Epistle 3', 'Tanya|Igeret Hakodesh|Epistle 4', 'Tanya|Igeret Hakodesh|Epistle 5', 'Tanya|Igeret Hakodesh|Epistle 6', 'Tanya|Igeret Hakodesh|Epistle 7', 'Tanya|Igeret Hakodesh|Epistle 8', 'Tanya|Igeret Hakodesh|Epistle 9', 'Tanya|Igeret Hakodesh|Epistle 10', 'Tanya|Igeret Hakodesh|Epistle 11', 'Tanya|Igeret Hakodesh|Epistle 13', 'Tanya|Igeret Hakodesh|Epistle 14', 'Tanya|Igeret Hakodesh|Epistle 15', 'Tanya|Igeret Hakodesh|Epistle 16', 'Tanya|Igeret Hakodesh|Epistle 17', 'Tanya|Igeret Hakodesh|Epistle 18', 'Tanya|Igeret Hakodesh|Epistle 19', 'Tanya|Igeret Hakodesh|Epistle 20', 'Tanya|Igeret Hakodesh|Epistle 21', 'Tanya|Igeret Hakodesh|Epistle 22', 'Tanya|Igeret Hakodesh|Epistle 23', 'Tanya|Igeret Hakodesh|Epistle 24', 'Tanya|Igeret Hakodesh|Epistle 25', 'Tanya|Igeret Hakodesh|Epistle 26', 'Tanya|Igeret Hakodesh|Epistle 27', 'Tanya|Igeret Hakodesh|Epistle 28', 'Tanya|Igeret Hakodesh|Epistle 29', 'Tanya|Igeret Hakodesh|Epistle 30', 'Tanya|Igeret Hakodesh|Epistle 31', 'Tanya|Igeret Hakodesh|Epistle 32', 'Tanya|Kuntres Acharon|Essay 1', 'Tanya|Kuntres Acharon|Essay 2', 'Tanya|Kuntres Acharon|Essay 3', 'Tanya|Kuntres Acharon|Essay 4', 'Tanya|Kuntres Acharon|Essay 5', 'Tanya|Kuntres Acharon|Essay 6', 'Tanya|Kuntres Acharon|Essay 7', 'Tanya|Kuntres Acharon|Essay 8', 'Tanya|Kuntres Acharon|Essay 9', 'Lessons in Tanya', 'Tanya in Plain English|Tanya In Plain English - Introduction', 'Tanya in Plain English|Tanya Chapters 26-28', 'Tanya in Plain English|Chapter 32', 'Tanya in Plain English|Chapter 33', 'Tanya in Plain English|Chapter 36'])"
      ]
     },
     "execution_count": 12,
     "metadata": {},
     "output_type": "execute_result"
    }
   ],
   "source": [
    "tt.keys()"
   ]
  },
  {
   "cell_type": "code",
   "execution_count": 14,
   "id": "c2535b92",
   "metadata": {},
   "outputs": [
    {
     "name": "stdout",
     "output_type": "stream",
     "text": [
      "The Tanya\n",
      "Selections From Torah Or and Likkutei Torah Festivals\n",
      "Shaar Habitachon - Gate of Trust\n",
      "Tzava'at Harivash\n",
      "Lessons in Derech Mitzvosecha\n",
      "Flames\n",
      "Maamar VeYadaata\n",
      "Lessons in Heichaltzu\n",
      "The Tree of Life - Kuntres Eitz HaChayim\n",
      "The Ethical Will\n",
      "Isa B'Midrash Tehillim\n",
      "Chassidic Discourses (Two Volumes)\n",
      "Sefer HaSichos 5698\n",
      "Sefer HaSichos 5700\n",
      "Sefer HaSichos 5701\n",
      "Sefer HaSichos 5702\n",
      "Sefer HaSichos 5703\n",
      "Sefer HaSichos 5704\n",
      "Sefer HaSichos 5705\n",
      "Maamar Reishit Goyim Amalek\n",
      "On the Study of Chasidus\n",
      "The Principles of Education and Guidance\n",
      "To Love a Fellow Jew\n",
      "Mastery Over Self\n",
      "With Light and with Might\n",
      "Defiance and Devotion\n",
      "Likkutei Dibburim Volume 4\n",
      "Likkutei Dibburim Volume 5\n",
      "Likkutei Dibburim Volume 6\n",
      "Lessons in Sefer HaMaamarim - Wedding Discourses\n",
      "Basi L'Gani\n",
      "Hayom Yom\n",
      "Hayom Yom Tackling Life's Tasks\n",
      "Likkutei Sichot\n",
      "Led By G-d's Hand\n",
      "Whispers Between Worlds\n",
      "Anticipating the Redemption - Volume 1\n",
      "Anticipating the Redemption - Volume 2\n",
      "Seek Out the Welfare of Jerusalem\n",
      "Crown Jewels\n",
      "Timeless Patterns in Time\n",
      "The Weekly Maamar\n",
      "In Good Hands\n",
      "Sichos in English\n",
      "A Judgment of Truth and Mercy\n",
      "When Every Moment is Precious\n",
      "I Will Choose the King\n",
      "Along a Winding Path\n",
      "Simchah Breaking Through Barriers\n",
      "From the Rebbes of Chabad\n"
     ]
    }
   ],
   "source": [
    "books = []\n",
    "rr = 0\n",
    "\n",
    "for book in ct['content']:\n",
    "    data = {\"text\": read_book(\"\", book['content']),\n",
    "                 \"meta\": \"\",\n",
    "                 \"work\": book['title']}\n",
    "    \n",
    "    # average depth\n",
    "    max_d = 0\n",
    "    for k in data['text'].keys():\n",
    "        max_d = max(max_d, len(k.split(\"|\")))  \n",
    "    \n",
    "    new_book = {}\n",
    "    for k, v in data['text'].items():\n",
    "        levels = k.split(\"|\")\n",
    "        levels.extend([\" \" for _ in range(max_d - len(levels))])  # adding empty levels\n",
    "        new_book[\", \".join(levels)] = v\n",
    "        \n",
    "    data['text'] = new_book\n",
    "    \n",
    "    books.append(data)\n",
    "    file_name = \"\".join([l for l in book['title'] if l not in \"\\/:*?<>|\"])\n",
    "    print(file_name)\n",
    "    \n",
    "    with open(os.path.join(r\"C:\\Dev\\My_reps\\RavGPT\\chabadorg-scraper\\files\\formated\", file_name + '.json'), 'w', encoding='utf-8') as f:\n",
    "        json.dump(data, f, indent=4, ensure_ascii=False)"
   ]
  },
  {
   "cell_type": "code",
   "execution_count": 15,
   "id": "8902bb76",
   "metadata": {},
   "outputs": [
    {
     "data": {
      "text/plain": [
       "[(0, 'The Tanya'),\n",
       " (1, 'Selections From Torah Or and Likkutei Torah: Festivals'),\n",
       " (2, 'Shaar Habitachon - Gate of Trust'),\n",
       " (3, \"Tzava'at Harivash\"),\n",
       " (4, 'Lessons in Derech Mitzvosecha'),\n",
       " (5, 'Flames'),\n",
       " (6, 'Maamar VeYadaata'),\n",
       " (7, 'Lessons in Heichaltzu'),\n",
       " (8, 'The Tree of Life - Kuntres Eitz HaChayim'),\n",
       " (9, 'The Ethical Will'),\n",
       " (10, \"Isa B'Midrash Tehillim\"),\n",
       " (11, 'Chassidic Discourses (Two Volumes)'),\n",
       " (12, 'Sefer HaSichos 5698'),\n",
       " (13, 'Sefer HaSichos 5700'),\n",
       " (14, 'Sefer HaSichos 5701'),\n",
       " (15, 'Sefer HaSichos 5702'),\n",
       " (16, 'Sefer HaSichos 5703'),\n",
       " (17, 'Sefer HaSichos 5704'),\n",
       " (18, 'Sefer HaSichos 5705'),\n",
       " (19, 'Maamar Reishit Goyim Amalek'),\n",
       " (20, 'On the Study of Chasidus'),\n",
       " (21, 'The Principles of Education and Guidance'),\n",
       " (22, 'To Love a Fellow Jew'),\n",
       " (23, 'Mastery Over Self'),\n",
       " (24, 'With Light and with Might'),\n",
       " (25, 'Defiance and Devotion'),\n",
       " (26, 'Likkutei Dibburim Volume 4'),\n",
       " (27, 'Likkutei Dibburim Volume 5'),\n",
       " (28, 'Likkutei Dibburim Volume 6'),\n",
       " (29, 'Lessons in Sefer HaMaamarim - Wedding Discourses'),\n",
       " (30, \"Basi L'Gani\"),\n",
       " (31, 'Hayom Yom'),\n",
       " (32, \"Hayom Yom: Tackling Life's Tasks\"),\n",
       " (33, 'Likkutei Sichot'),\n",
       " (34, \"Led By G-d's Hand\"),\n",
       " (35, 'Whispers Between Worlds'),\n",
       " (36, 'Anticipating the Redemption - Volume 1'),\n",
       " (37, 'Anticipating the Redemption - Volume 2'),\n",
       " (38, 'Seek Out the Welfare of Jerusalem'),\n",
       " (39, 'Crown Jewels'),\n",
       " (40, 'Timeless Patterns in Time'),\n",
       " (41, 'The Weekly Maamar'),\n",
       " (42, 'In Good Hands'),\n",
       " (43, 'Sichos in English'),\n",
       " (44, 'A Judgment of Truth and Mercy'),\n",
       " (45, 'When Every Moment is Precious'),\n",
       " (46, 'I Will Choose the King'),\n",
       " (47, 'Along a Winding Path'),\n",
       " (48, 'Simchah: Breaking Through Barriers'),\n",
       " (49, 'From the Rebbes of Chabad')]"
      ]
     },
     "execution_count": 15,
     "metadata": {},
     "output_type": "execute_result"
    }
   ],
   "source": [
    "[(i, b['work']) for i, b in enumerate(books)]"
   ]
  },
  {
   "cell_type": "markdown",
   "id": "23ee0cc8",
   "metadata": {},
   "source": [
    "----"
   ]
  },
  {
   "cell_type": "code",
   "execution_count": 16,
   "id": "aa129d24",
   "metadata": {},
   "outputs": [
    {
     "name": "stdout",
     "output_type": "stream",
     "text": [
      "Basi L'Gani\n",
      "Chassidic Discourses (Two Volumes)\n",
      "Flames\n",
      "Hayom Yom\n",
      "Isa B'Midrash Tehillim\n",
      "Led By G-d's Hand\n",
      "Lessons in Heichaltzu\n",
      "Lessons in Sefer HaMaamarim - Wedding Discourses\n",
      "Likkutei Sichot\n",
      "Maamar Reishit Goyim Amalek\n",
      "Maamar VeYadaata\n",
      "Shulchan Aruch Harav\n",
      "The Principles of Education and Guidance\n",
      "The Tree of Life - Kuntres Eitz HaChayim\n",
      "The Weekly Maamar\n",
      "Tzava'at Harivash\n"
     ]
    }
   ],
   "source": [
    "for book in os.listdir(r\"C:\\Dev\\My_reps\\RavGPT\\chabadorg-scraper\\files\"):\n",
    "    if not book.endswith('json'):\n",
    "        continue\n",
    "    \n",
    "    json_data = read_json(os.path.join(r\"C:\\Dev\\My_reps\\RavGPT\\chabadorg-scraper\\files\", book))\n",
    "    \n",
    "    data = {\"text\": read_book(\"\", json_data['content']),\n",
    "                 \"meta\": \"\",\n",
    "                 \"work\": json_data['bookTitle']}\n",
    "    \n",
    "    # average depth\n",
    "    max_d = 0\n",
    "    for k in data['text'].keys():\n",
    "        max_d = max(max_d, len(k.split(\"|\")))  \n",
    "    \n",
    "    new_book = {}\n",
    "    for k, v in data['text'].items():\n",
    "        levels = k.split(\"|\")\n",
    "        levels.extend([\" \" for _ in range(max_d - len(levels))])  # adding empty levels\n",
    "        new_book[\", \".join(levels)] = v\n",
    "        \n",
    "    data['text'] = new_book\n",
    "    \n",
    "\n",
    "    file_name = \"\".join([l for l in json_data['bookTitle'] if l not in \"\\/:*?<>|\"])\n",
    "    print(file_name)\n",
    "    \n",
    "    with open(os.path.join(r\"C:\\Dev\\My_reps\\RavGPT\\chabadorg-scraper\\files\\formated\", file_name + '.json'), 'w', encoding='utf8') as f:\n",
    "        json.dump(data, f, indent=4, ensure_ascii=False)"
   ]
  },
  {
   "cell_type": "markdown",
   "id": "49d8f0aa",
   "metadata": {},
   "source": [
    "---\n",
    "# Add folders like in sefaria"
   ]
  },
  {
   "cell_type": "code",
   "execution_count": 18,
   "id": "a162c031",
   "metadata": {},
   "outputs": [],
   "source": [
    "root_folder = r\"C:\\Dev\\My_reps\\RavGPT\\chabadorg-scraper\\files\\formated\"\n",
    "for book in os.listdir(root_folder):\n",
    "    if not book.endswith('json'):\n",
    "        continue\n",
    "    \n",
    "    book_name = book[:-5]\n",
    "    os.makedirs(os.path.join(root_folder, book_name, 'English'), exist_ok=True)\n",
    "    \n",
    "    new_path = os.path.join(root_folder, book_name, 'English', book)\n",
    "#     shutil.move(os.path.join(root_folder, book), new_path)\n",
    "    os.replace(os.path.join(root_folder, book), os.path.join(root_folder, book_name, 'English', \"merged.json\"))"
   ]
  },
  {
   "cell_type": "code",
   "execution_count": 14,
   "id": "03155564",
   "metadata": {},
   "outputs": [],
   "source": [
    "with open(\"test.txt\", 'w', encoding='utf-8') as f:\n",
    "        f.write('\\n'.join(['qrefgqwerf', '2sdfasdf', '3qadfasdf']))"
   ]
  }
 ],
 "metadata": {
  "kernelspec": {
   "display_name": "p310",
   "language": "python",
   "name": "p310"
  },
  "language_info": {
   "codemirror_mode": {
    "name": "ipython",
    "version": 3
   },
   "file_extension": ".py",
   "mimetype": "text/x-python",
   "name": "python",
   "nbconvert_exporter": "python",
   "pygments_lexer": "ipython3",
   "version": "3.10.12"
  }
 },
 "nbformat": 4,
 "nbformat_minor": 5
}
