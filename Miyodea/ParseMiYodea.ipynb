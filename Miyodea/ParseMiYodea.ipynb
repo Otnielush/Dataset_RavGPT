{
  "nbformat": 4,
  "nbformat_minor": 0,
  "metadata": {
    "colab": {
      "provenance": []
    },
    "kernelspec": {
      "name": "python3",
      "display_name": "Python 3"
    },
    "language_info": {
      "name": "python"
    }
  },
  "cells": [
    {
      "cell_type": "markdown",
      "source": [
        "# We need to get access token."
      ],
      "metadata": {
        "id": "xCLPCUaizJu-"
      }
    },
    {
      "cell_type": "code",
      "source": [
        "# https://stackapps.com/questions/9345/how-can-i-quickly-get-an-access-token-for-personal-use    #  scope = no_expiry,private_info\n",
        "# Client Id   27047\n",
        "# Key     Olal2qHePkJ7XZjbiuZi6Q((\n",
        "# Client Secret  A5iQJXm19vCrKMCq2*z57A((\n",
        "\n",
        "# our no-expiry access-token  zLR4yModLSN4nIvBcaTwWw))"
      ],
      "metadata": {
        "id": "xw9664Uxmp7O"
      },
      "execution_count": null,
      "outputs": []
    },
    {
      "cell_type": "code",
      "source": [
        "# an exaple to  stckapp tool to set filters: https://api.stackexchange.com/docs/questions#page=1&pagesize=110&order=desc&min=1&sort=votes&filter=!0_VI1fTYGwbDM-UWZMWbHaM5TzYg4j059lF8XZiZU&site=judaism&run=true"
      ],
      "metadata": {
        "id": "uefWrXHz7aIe"
      },
      "execution_count": null,
      "outputs": []
    },
    {
      "cell_type": "code",
      "source": [
        "# every page has 100 questions , max paging is 100  = 10k , site has 36k questions , correct to August 2023\n",
        "\n",
        "# different from date to date 2010-2015   1262304000 1451606399\n",
        "# different from date to date 2016-2018   fromdate=1451606400&todate=1546214400\n",
        "# different from date to date 2019-2020   1546214401 1609459199\n",
        "# different from date to date 2021        1609459200"
      ],
      "metadata": {
        "id": "6q2SM83J6oLV"
      },
      "execution_count": null,
      "outputs": []
    },
    {
      "cell_type": "code",
      "source": [
        "!pip install -Uqq ipdb\n",
        "import ipdb"
      ],
      "metadata": {
        "colab": {
          "base_uri": "https://localhost:8080/"
        },
        "id": "VxFa-fYEpjSq",
        "outputId": "615f4d02-76ac-457f-e678-490ec088e54a"
      },
      "execution_count": 3,
      "outputs": [
        {
          "output_type": "stream",
          "name": "stdout",
          "text": [
            "\u001b[?25l     \u001b[90m━━━━━━━━━━━━━━━━━━━━━━━━━━━━━━━━━━━━━━━━\u001b[0m \u001b[32m0.0/1.6 MB\u001b[0m \u001b[31m?\u001b[0m eta \u001b[36m-:--:--\u001b[0m\r\u001b[2K     \u001b[91m━━━\u001b[0m\u001b[90m╺\u001b[0m\u001b[90m━━━━━━━━━━━━━━━━━━━━━━━━━━━━━━━━━━━━\u001b[0m \u001b[32m0.1/1.6 MB\u001b[0m \u001b[31m4.1 MB/s\u001b[0m eta \u001b[36m0:00:01\u001b[0m\r\u001b[2K     \u001b[91m━━━━━━━━━━━━\u001b[0m\u001b[91m╸\u001b[0m\u001b[90m━━━━━━━━━━━━━━━━━━━━━━━━━━━\u001b[0m \u001b[32m0.5/1.6 MB\u001b[0m \u001b[31m7.6 MB/s\u001b[0m eta \u001b[36m0:00:01\u001b[0m\r\u001b[2K     \u001b[91m━━━━━━━━━━━━━━━━━━━━━━━\u001b[0m\u001b[90m╺\u001b[0m\u001b[90m━━━━━━━━━━━━━━━━\u001b[0m \u001b[32m0.9/1.6 MB\u001b[0m \u001b[31m9.1 MB/s\u001b[0m eta \u001b[36m0:00:01\u001b[0m\r\u001b[2K     \u001b[91m━━━━━━━━━━━━━━━━━━━━━━━━━━━━━━━━\u001b[0m\u001b[91m╸\u001b[0m\u001b[90m━━━━━━━\u001b[0m \u001b[32m1.3/1.6 MB\u001b[0m \u001b[31m9.4 MB/s\u001b[0m eta \u001b[36m0:00:01\u001b[0m\r\u001b[2K     \u001b[90m━━━━━━━━━━━━━━━━━━━━━━━━━━━━━━━━━━━━━━━━\u001b[0m \u001b[32m1.6/1.6 MB\u001b[0m \u001b[31m9.2 MB/s\u001b[0m eta \u001b[36m0:00:00\u001b[0m\n",
            "\u001b[?25h"
          ]
        }
      ]
    },
    {
      "cell_type": "markdown",
      "source": [
        "# Code"
      ],
      "metadata": {
        "id": "Rbf30eYx0CuG"
      }
    },
    {
      "cell_type": "code",
      "source": [
        "import requests\n",
        "import html\n",
        "import json\n",
        "\n",
        "question_answer_list = []\n",
        "\n",
        "url = \"https://api.stackexchange.com/2.3/questions\"\n",
        "params = {\n",
        "    \"page\": 1,\n",
        "    \"pagesize\": 100,\n",
        "    \"order\": \"desc\",\n",
        "    \"min\": 1,\n",
        "    \"sort\": \"votes\",\n",
        "    \"site\": \"judaism\",\n",
        "    \"filter\": \"!7uBGi3F7bE36rVSYESQ.7L1AF9jnxYd.GVN0XFwR3c6NUI\", #\"!0_VI1fTYGwbDM-UWZMWbHaM5TzYg4j059lF8XZiZU\",\n",
        "    \"access_token\": \"zLR4yModLSN4nIvBcaTwWw))\",\n",
        "    \"key\": \"Olal2qHePkJ7XZjbiuZi6Q((\"\n",
        "}\n",
        "\n",
        "no_answer = 0\n",
        "PTIJ = 0\n",
        "\n",
        "a = ['1262304000','1451606400','1546214401','1609459200']\n",
        "b = ['1451606399','1546214400','1609459199','']\n",
        "\n",
        "for from_date, to_date in zip(a, b):\n",
        "    params[\"fromdate\"] = from_date\n",
        "    if to_date:\n",
        "        params[\"todate\"] = to_date\n",
        "    else:\n",
        "        del params[\"todate\"]\n",
        "    params[\"page\"] = 1\n",
        "\n",
        "    while params[\"page\"] < params[\"pagesize\"] +1:\n",
        "      data_list = []\n",
        "\n",
        "      response = requests.get(url, params=params)\n",
        "      response_data = response.json()\n",
        "\n",
        "      if \"items\" in response_data:\n",
        "          data_list.extend(response_data[\"items\"])\n",
        "\n",
        "      has_more = response_data.get(\"has_more\", False)\n",
        "\n",
        "\n",
        "      params[\"page\"] += 1\n",
        "\n",
        "      for data in data_list:\n",
        "        if data['body_markdown'].startswith(\"PTIJ:\"): # purim-torah-in-jest, funny questions for purim, not relevant to us\n",
        "            PTIJ = PTIJ + 1\n",
        "            continue\n",
        "        if \"answers\" not in data:\n",
        "            no_answer = no_answer + 1\n",
        "            continue\n",
        "\n",
        "        question = html.unescape(data[\"body_markdown\"]) if \"body_markdown\" in data else \"\"\n",
        "        link = html.unescape(data[\"link\"]) if \"link\" in data else \"\"\n",
        "        title = html.unescape(data[\"title\"]) if \"title\" in data else \"\"\n",
        "\n",
        "        data = data['answers']\n",
        "        highest_score_entry = next((entry for entry in data if entry['accepted']), None)\n",
        "\n",
        "        # If no accepted answers are found, fall back to the first entry with a score above 2\n",
        "        if highest_score_entry is None:\n",
        "            highest_score_entry = data[0]  if data[0]['score'] > 1 else None\n",
        "        if highest_score_entry is None:\n",
        "            no_answer = no_answer + 1\n",
        "            continue\n",
        "        else:\n",
        "          accepted_markdowns = highest_score_entry['body_markdown']\n",
        "          accepted_markdowns = html.unescape(accepted_markdowns)\n",
        "\n",
        "        answer = accepted_markdowns\n",
        "\n",
        "        # Create a dictionary for each question and answer pair\n",
        "        qa_pair = {\n",
        "            \"question\": question,\n",
        "            \"answer\": answer,\n",
        "            \"title\": title,\n",
        "            \"link\": link\n",
        "        }\n",
        "        question_answer_list.append(qa_pair)\n",
        "\n",
        "      if not has_more:\n",
        "          break\n",
        "\n",
        "json_data = json.dumps(question_answer_list, indent=4)\n",
        "\n",
        "# Save the JSON to a file\n",
        "with open(\"question_answer_data.json\", \"w\") as json_file:\n",
        "    json_file.write(json_data)\n",
        "\n",
        "print('no answers: ' + str(no_answer))\n",
        "print('PTIJ: ' + str(PTIJ))"
      ],
      "metadata": {
        "colab": {
          "base_uri": "https://localhost:8080/"
        },
        "id": "uMbwpxYT2q5r",
        "outputId": "fbf07c86-10ec-4522-939e-70b529561be9"
      },
      "execution_count": 5,
      "outputs": [
        {
          "output_type": "stream",
          "name": "stdout",
          "text": [
            "no answers: 11193\n",
            "PTIJ: 0\n"
          ]
        }
      ]
    },
    {
      "cell_type": "code",
      "source": [],
      "metadata": {
        "id": "s9SAOrXYNmVb"
      },
      "execution_count": null,
      "outputs": []
    }
  ]
}